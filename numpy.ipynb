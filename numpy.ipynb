{
 "cells": [
  {
   "cell_type": "code",
   "execution_count": 2,
   "id": "29c67bc3",
   "metadata": {},
   "outputs": [
    {
     "data": {
      "text/plain": [
       "'1.21.5'"
      ]
     },
     "execution_count": 2,
     "metadata": {},
     "output_type": "execute_result"
    }
   ],
   "source": [
    "import numpy as np\n",
    "np.__version__"
   ]
  },
  {
   "cell_type": "markdown",
   "id": "62300d46",
   "metadata": {},
   "source": [
    "# create an 1d array using array function"
   ]
  },
  {
   "cell_type": "code",
   "execution_count": 2,
   "id": "070bdca6",
   "metadata": {},
   "outputs": [
    {
     "name": "stdout",
     "output_type": "stream",
     "text": [
      "int32\n",
      "(5,)\n"
     ]
    }
   ],
   "source": [
    "a = np.array([1,2,3,4,5])\n",
    "print(a.dtype)\n",
    "print(a.shape)"
   ]
  },
  {
   "cell_type": "markdown",
   "id": "ce0d9ad9",
   "metadata": {},
   "source": [
    "# create 1d array using arange function"
   ]
  },
  {
   "cell_type": "code",
   "execution_count": 3,
   "id": "af576775",
   "metadata": {},
   "outputs": [
    {
     "name": "stdout",
     "output_type": "stream",
     "text": [
      "[0 1 2 3 4 5 6 7 8 9]\n",
      "int32\n",
      "(10,)\n"
     ]
    }
   ],
   "source": [
    "arr = np.arange(10)\n",
    "print(arr)\n",
    "print(arr.dtype)\n",
    "print(arr.shape)"
   ]
  },
  {
   "cell_type": "markdown",
   "id": "e8961c08",
   "metadata": {},
   "source": [
    "# create 2d array using array"
   ]
  },
  {
   "cell_type": "code",
   "execution_count": 4,
   "id": "2af88494",
   "metadata": {},
   "outputs": [
    {
     "name": "stdout",
     "output_type": "stream",
     "text": [
      "[[1 2 3]\n",
      " [4 5 6]]\n",
      "int32\n",
      "(2, 3)\n"
     ]
    }
   ],
   "source": [
    "b = np.array([[1,2,3,],[4,5,6]])\n",
    "print(b)\n",
    "print(b.dtype)\n",
    "print(b.shape)"
   ]
  },
  {
   "cell_type": "markdown",
   "id": "2731955f",
   "metadata": {},
   "source": [
    "# create 2d array using arange function"
   ]
  },
  {
   "cell_type": "code",
   "execution_count": 5,
   "id": "ac6b9252",
   "metadata": {},
   "outputs": [
    {
     "name": "stdout",
     "output_type": "stream",
     "text": [
      "[[ 0  1  2]\n",
      " [ 3  4  5]\n",
      " [ 6  7  8]\n",
      " [ 9 10 11]\n",
      " [12 13 14]\n",
      " [15 16 17]]\n",
      "int32\n",
      "(6, 3)\n"
     ]
    }
   ],
   "source": [
    "c = np.arange(18).reshape(6,3)\n",
    "print(c)\n",
    "print(c.dtype)\n",
    "print(c.shape)"
   ]
  },
  {
   "cell_type": "markdown",
   "id": "f27b7249",
   "metadata": {},
   "source": [
    "# create 3d array using array function"
   ]
  },
  {
   "cell_type": "code",
   "execution_count": 6,
   "id": "a4350105",
   "metadata": {},
   "outputs": [
    {
     "name": "stdout",
     "output_type": "stream",
     "text": [
      "[[[1 2 3]\n",
      "  [2 3 4]]\n",
      "\n",
      " [[3 4 5]\n",
      "  [4 5 6]]\n",
      "\n",
      " [[5 6 7]\n",
      "  [6 7 8]]]\n",
      "int32\n",
      "(3, 2, 3)\n",
      "18\n"
     ]
    }
   ],
   "source": [
    "d =np.array(\n",
    "    [\n",
    "    [[1,2,3],[2,3,4]],\n",
    "    [[3,4,5],[4,5,6]],\n",
    "    [[5,6,7],[6,7,8]]\n",
    "    ]\n",
    ")\n",
    "print(d)\n",
    "print(d.dtype)\n",
    "print(d.shape)\n",
    "print(d.size)"
   ]
  },
  {
   "cell_type": "markdown",
   "id": "069e3e5b",
   "metadata": {},
   "source": [
    "# create 3d array using arange function"
   ]
  },
  {
   "cell_type": "code",
   "execution_count": 7,
   "id": "b994ecd0",
   "metadata": {},
   "outputs": [
    {
     "name": "stdout",
     "output_type": "stream",
     "text": [
      "[[[ 0  1  2]\n",
      "  [ 3  4  5]]\n",
      "\n",
      " [[ 6  7  8]\n",
      "  [ 9 10 11]]\n",
      "\n",
      " [[12 13 14]\n",
      "  [15 16 17]]]\n",
      "int32\n",
      "(3, 2, 3)\n",
      "18\n"
     ]
    }
   ],
   "source": [
    "e = np.arange(18).reshape(3,2,3)\n",
    "print(e)\n",
    "print(e.dtype)\n",
    "print(e.shape)\n",
    "print(e.size)"
   ]
  },
  {
   "cell_type": "markdown",
   "id": "38684779",
   "metadata": {},
   "source": [
    "# Createing array using zeros"
   ]
  },
  {
   "cell_type": "code",
   "execution_count": 8,
   "id": "cea3f959",
   "metadata": {},
   "outputs": [
    {
     "name": "stdout",
     "output_type": "stream",
     "text": [
      "[[0. 0. 0. 0. 0. 0. 0. 0. 0. 0.]\n",
      " [0. 0. 0. 0. 0. 0. 0. 0. 0. 0.]\n",
      " [0. 0. 0. 0. 0. 0. 0. 0. 0. 0.]\n",
      " [0. 0. 0. 0. 0. 0. 0. 0. 0. 0.]\n",
      " [0. 0. 0. 0. 0. 0. 0. 0. 0. 0.]]\n",
      "float64\n",
      "(5, 10)\n",
      "50\n"
     ]
    }
   ],
   "source": [
    "f = np.zeros(50).reshape(5,10)\n",
    "print(f)\n",
    "print(f.dtype)\n",
    "print(f.shape)\n",
    "print(f.size)\n"
   ]
  },
  {
   "cell_type": "markdown",
   "id": "596c931d",
   "metadata": {},
   "source": [
    "# Createing array using ones"
   ]
  },
  {
   "cell_type": "code",
   "execution_count": 9,
   "id": "9ef63173",
   "metadata": {},
   "outputs": [
    {
     "name": "stdout",
     "output_type": "stream",
     "text": [
      "[[1. 1. 1. 1. 1.]\n",
      " [1. 1. 1. 1. 1.]]\n",
      "float64\n",
      "(2, 5)\n",
      "10\n"
     ]
    }
   ],
   "source": [
    "g = np.ones(10).reshape(2,5)\n",
    "print(g)\n",
    "print(g.dtype)\n",
    "print(g.shape)\n",
    "print(g.size)"
   ]
  },
  {
   "cell_type": "markdown",
   "id": "3e8685d3",
   "metadata": {},
   "source": [
    "# Createing  ones using 2D array"
   ]
  },
  {
   "cell_type": "code",
   "execution_count": 10,
   "id": "7fc203aa",
   "metadata": {},
   "outputs": [
    {
     "data": {
      "text/plain": [
       "array([[1, 1],\n",
       "       [1, 1],\n",
       "       [1, 1],\n",
       "       [1, 1]], dtype=int64)"
      ]
     },
     "execution_count": 10,
     "metadata": {},
     "output_type": "execute_result"
    }
   ],
   "source": [
    "g = np.ones((4,2),dtype=np.int64)\n",
    "g\n"
   ]
  },
  {
   "cell_type": "markdown",
   "id": "35ccd07c",
   "metadata": {},
   "source": [
    "# Createing ones using 3D array"
   ]
  },
  {
   "cell_type": "code",
   "execution_count": 11,
   "id": "0d1d6639",
   "metadata": {},
   "outputs": [
    {
     "data": {
      "text/plain": [
       "array([[[1, 1, 1],\n",
       "        [1, 1, 1]],\n",
       "\n",
       "       [[1, 1, 1],\n",
       "        [1, 1, 1]],\n",
       "\n",
       "       [[1, 1, 1],\n",
       "        [1, 1, 1]]])"
      ]
     },
     "execution_count": 11,
     "metadata": {},
     "output_type": "execute_result"
    }
   ],
   "source": [
    "g =np.ones((3,2,3),dtype=np.int32)\n",
    "g"
   ]
  },
  {
   "cell_type": "markdown",
   "id": "159ceea7",
   "metadata": {},
   "source": [
    "# creating random numbers using 1d array"
   ]
  },
  {
   "cell_type": "code",
   "execution_count": 21,
   "id": "896ea534",
   "metadata": {},
   "outputs": [
    {
     "name": "stdout",
     "output_type": "stream",
     "text": [
      "[1 1 1 1 1 1 1 2 1 2]\n",
      "int32\n",
      "(10,)\n"
     ]
    }
   ],
   "source": [
    "h = np.random.randint(1,3,size=(10))\n",
    "print(h)\n",
    "print(h.dtype)\n",
    "print(h.shape)"
   ]
  },
  {
   "cell_type": "markdown",
   "id": "9f50a20c",
   "metadata": {},
   "source": [
    "# creating random numbers using 2d array"
   ]
  },
  {
   "cell_type": "code",
   "execution_count": 29,
   "id": "684740ec",
   "metadata": {},
   "outputs": [
    {
     "name": "stdout",
     "output_type": "stream",
     "text": [
      "[[1 3 1 3 2]\n",
      " [3 3 1 2 2]\n",
      " [1 2 3 2 2]\n",
      " [2 2 1 4 1]\n",
      " [2 2 4 1 4]]\n",
      "int32\n",
      "(5, 5)\n"
     ]
    }
   ],
   "source": [
    "i =np.random.randint(1,5,size =(5,5))\n",
    "print(i)\n",
    "print(i.dtype)\n",
    "print(i.shape)"
   ]
  },
  {
   "cell_type": "markdown",
   "id": "db70afb2",
   "metadata": {},
   "source": [
    "# creating random numbers using 3d array"
   ]
  },
  {
   "cell_type": "code",
   "execution_count": 32,
   "id": "72586a01",
   "metadata": {},
   "outputs": [
    {
     "name": "stdout",
     "output_type": "stream",
     "text": [
      "[[[3 9 8]\n",
      "  [7 8 6]\n",
      "  [3 1 2]]\n",
      "\n",
      " [[9 1 1]\n",
      "  [8 1 9]\n",
      "  [5 3 1]]\n",
      "\n",
      " [[6 8 8]\n",
      "  [8 8 5]\n",
      "  [2 7 3]]]\n",
      "int32\n",
      "(3, 3, 3)\n"
     ]
    }
   ],
   "source": [
    "j =np.random.randint(1,10,size=(3,3,3))\n",
    "print(j)\n",
    "print(j.dtype)\n",
    "print(j.shape)"
   ]
  },
  {
   "cell_type": "markdown",
   "id": "536dae27",
   "metadata": {},
   "source": [
    "# create array with single low multipal high"
   ]
  },
  {
   "cell_type": "code",
   "execution_count": 44,
   "id": "0226e9bf",
   "metadata": {},
   "outputs": [
    {
     "name": "stdout",
     "output_type": "stream",
     "text": [
      "[ 5  6 11 10 32]\n",
      "int32\n",
      "(5,)\n"
     ]
    }
   ],
   "source": [
    "k =np.random.randint(5,[10,20,30,40,50])\n",
    "print(k)\n",
    "print(k.dtype)\n",
    "print(k.shape)"
   ]
  },
  {
   "cell_type": "markdown",
   "id": "80347126",
   "metadata": {},
   "source": [
    "# create array with single high multipal low"
   ]
  },
  {
   "cell_type": "code",
   "execution_count": 46,
   "id": "9b898070",
   "metadata": {},
   "outputs": [
    {
     "name": "stdout",
     "output_type": "stream",
     "text": [
      "[11 37 42 46]\n",
      "int32\n",
      "(4,)\n"
     ]
    }
   ],
   "source": [
    "l =np.random.randint([10,20,30,40],50)\n",
    "print(l)\n",
    "print(l.dtype)\n",
    "print(l.shape)\n"
   ]
  },
  {
   "cell_type": "markdown",
   "id": "8a29ee7e",
   "metadata": {},
   "source": [
    "# create array with multipal low mulyipal high"
   ]
  },
  {
   "cell_type": "code",
   "execution_count": 55,
   "id": "699f1d7e",
   "metadata": {},
   "outputs": [
    {
     "name": "stdout",
     "output_type": "stream",
     "text": [
      "[ 8  2 20]\n",
      "int32\n",
      "(3,)\n"
     ]
    }
   ],
   "source": [
    "m =np.random.randint([1,2,3],[10,20,30])\n",
    "print(m)\n",
    "print(m.dtype)\n",
    "print(m.shape)"
   ]
  },
  {
   "cell_type": "markdown",
   "id": "60337e35",
   "metadata": {},
   "source": [
    "# random.randn function 1D"
   ]
  },
  {
   "cell_type": "code",
   "execution_count": 6,
   "id": "0c50df3c",
   "metadata": {},
   "outputs": [
    {
     "data": {
      "text/plain": [
       "array([ 1.94243754, -0.10353373, -0.4364964 ])"
      ]
     },
     "execution_count": 6,
     "metadata": {},
     "output_type": "execute_result"
    }
   ],
   "source": [
    "n = np.random.randn(3)\n",
    "n"
   ]
  },
  {
   "cell_type": "markdown",
   "id": "a7be080d",
   "metadata": {},
   "source": [
    "# random.randn function 2D"
   ]
  },
  {
   "cell_type": "code",
   "execution_count": 8,
   "id": "bea0cbc3",
   "metadata": {},
   "outputs": [
    {
     "name": "stdout",
     "output_type": "stream",
     "text": [
      "[[-1.73520976 -2.0023831  -0.16295334]\n",
      " [-0.51760461 -0.53569093 -1.15980776]\n",
      " [ 0.96026035  0.64355391 -0.81169397]]\n",
      "float64\n",
      "(3, 3)\n",
      "9\n"
     ]
    }
   ],
   "source": [
    "o =np.random.randn(3,3)\n",
    "print(o)\n",
    "print(o.dtype)\n",
    "print(o.shape)\n",
    "print(o.size)"
   ]
  },
  {
   "cell_type": "markdown",
   "id": "09956def",
   "metadata": {},
   "source": [
    "# random.randn function 3D"
   ]
  },
  {
   "cell_type": "code",
   "execution_count": 9,
   "id": "e196dbae",
   "metadata": {},
   "outputs": [
    {
     "name": "stdout",
     "output_type": "stream",
     "text": [
      "[[[-0.21156386  0.0418125   0.10536525]\n",
      "  [-0.08084253 -0.48485738  1.83621259]\n",
      "  [ 0.92599753  1.37473509  0.49033596]]\n",
      "\n",
      " [[ 1.0931343   0.48353196 -0.15048201]\n",
      "  [-1.60066648  1.96954599  0.61689555]\n",
      "  [-0.64111122 -0.14246892  0.17750181]]\n",
      "\n",
      " [[-0.46066347 -1.27994524 -1.28526682]\n",
      "  [-0.04252425 -1.71685747  0.62458533]\n",
      "  [-0.72819043 -1.76834001  1.49397406]]]\n",
      "float64\n",
      "(3, 3, 3)\n",
      "27\n"
     ]
    }
   ],
   "source": [
    "p =np.random.randn(3,3,3)\n",
    "print(p)\n",
    "print(p.dtype)\n",
    "print(p.shape)\n",
    "print(p.size)"
   ]
  },
  {
   "cell_type": "markdown",
   "id": "10bae70c",
   "metadata": {},
   "source": [
    "# creating rand function"
   ]
  },
  {
   "cell_type": "code",
   "execution_count": 6,
   "id": "26014288",
   "metadata": {},
   "outputs": [
    {
     "name": "stdout",
     "output_type": "stream",
     "text": [
      "[0.41146508 0.22117568 0.60768881 0.33097466 0.04932252 0.5822742\n",
      " 0.0908129  0.63495455 0.60905582 0.18013633]\n",
      "(10,)\n",
      "float64\n",
      "10\n"
     ]
    }
   ],
   "source": [
    "q =np.random.rand(10)\n",
    "print(q)\n",
    "print(q.shape)\n",
    "print(q.dtype)\n",
    "print(q.size)"
   ]
  },
  {
   "cell_type": "markdown",
   "id": "aba4bd85",
   "metadata": {},
   "source": [
    "# creating array positive indexing"
   ]
  },
  {
   "cell_type": "code",
   "execution_count": 12,
   "id": "024561bc",
   "metadata": {},
   "outputs": [
    {
     "name": "stdout",
     "output_type": "stream",
     "text": [
      "4\n"
     ]
    }
   ],
   "source": [
    "r =np.array([1,2,3,4])\n",
    "print(r[3])"
   ]
  },
  {
   "cell_type": "markdown",
   "id": "cf9083b5",
   "metadata": {},
   "source": [
    "# creating array positive indexing 2D"
   ]
  },
  {
   "cell_type": "code",
   "execution_count": 15,
   "id": "26229c8e",
   "metadata": {},
   "outputs": [
    {
     "name": "stdout",
     "output_type": "stream",
     "text": [
      "5\n",
      "3\n"
     ]
    }
   ],
   "source": [
    "r =np.array([[1,2,3,4],[5,6,7,8]])\n",
    "print(r[1,0])\n",
    "print(r[0,2])"
   ]
  },
  {
   "cell_type": "markdown",
   "id": "0a55ca30",
   "metadata": {},
   "source": [
    "# creating array positive indexing 3D"
   ]
  },
  {
   "cell_type": "code",
   "execution_count": 18,
   "id": "ecf64be5",
   "metadata": {},
   "outputs": [
    {
     "name": "stdout",
     "output_type": "stream",
     "text": [
      "2\n",
      "6\n"
     ]
    }
   ],
   "source": [
    "r =np.array(\n",
    "    [\n",
    "        [[1,2,3],[2,3,4]],\n",
    "        [[3,4,5],[4,5,6]],\n",
    "        [[5,6,7],[6,7,8]]\n",
    "    ]\n",
    ")\n",
    "print(r[0,1,0])\n",
    "print(r[1,1,2])"
   ]
  },
  {
   "cell_type": "markdown",
   "id": "207a1cc6",
   "metadata": {},
   "source": [
    "# creating array negative indexing 1D"
   ]
  },
  {
   "cell_type": "code",
   "execution_count": 19,
   "id": "3918578b",
   "metadata": {},
   "outputs": [
    {
     "name": "stdout",
     "output_type": "stream",
     "text": [
      "4\n"
     ]
    }
   ],
   "source": [
    "s =np.array([1,2,3,4,5])\n",
    "print(s[-2])"
   ]
  },
  {
   "cell_type": "markdown",
   "id": "0ec02b43",
   "metadata": {},
   "source": [
    "# creating array negative indexing 2D"
   ]
  },
  {
   "cell_type": "code",
   "execution_count": 21,
   "id": "06d26229",
   "metadata": {},
   "outputs": [
    {
     "name": "stdout",
     "output_type": "stream",
     "text": [
      "8\n",
      "2\n"
     ]
    }
   ],
   "source": [
    "s =np.array([[1,2,3,4],[5,6,7,8]])\n",
    "print(s[-1,-1])\n",
    "print(s[-2,-3])"
   ]
  },
  {
   "cell_type": "markdown",
   "id": "87855706",
   "metadata": {},
   "source": [
    "# creating array negative indexing 3D"
   ]
  },
  {
   "cell_type": "code",
   "execution_count": 30,
   "id": "70c9af41",
   "metadata": {},
   "outputs": [
    {
     "name": "stdout",
     "output_type": "stream",
     "text": [
      "6\n",
      "7\n",
      "4\n"
     ]
    }
   ],
   "source": [
    "s =np.array([[[1,2,3],[2,3,4]],[[3,4,5],[4,5,6]],[[5,6,7],[6,7,8]]])\n",
    "print(s[-1,-1,-3])\n",
    "print(s[-1,-2,-1])\n",
    "print(s[-3,-1,-1])"
   ]
  },
  {
   "cell_type": "markdown",
   "id": "47f1e509",
   "metadata": {},
   "source": [
    "# numpy array slicing"
   ]
  },
  {
   "cell_type": "markdown",
   "id": "db9ab12d",
   "metadata": {},
   "source": [
    "# slice elements from index 1to index 5 from the folling array"
   ]
  },
  {
   "cell_type": "code",
   "execution_count": 6,
   "id": "780743ca",
   "metadata": {},
   "outputs": [
    {
     "name": "stdout",
     "output_type": "stream",
     "text": [
      "[2 3 4 5]\n"
     ]
    }
   ],
   "source": [
    "        #    0 1 2 3 4 5   \n",
    "t =np.array([1,2,3,4,5,6])\n",
    "print(t[1:5])"
   ]
  },
  {
   "cell_type": "markdown",
   "id": "e65a1220",
   "metadata": {},
   "source": [
    "# slice elements from index 4to end array\n"
   ]
  },
  {
   "cell_type": "code",
   "execution_count": 7,
   "id": "fd2c4068",
   "metadata": {},
   "outputs": [
    {
     "name": "stdout",
     "output_type": "stream",
     "text": [
      "[5 6 7]\n"
     ]
    }
   ],
   "source": [
    "        #    0 1 2 3 4 5 6\n",
    "t =np.array([1,2,3,4,5,6,7])\n",
    "print(t[4:7])"
   ]
  },
  {
   "cell_type": "markdown",
   "id": "73f2ee35",
   "metadata": {},
   "source": [
    "# slice elements from start to index 4 (not include)"
   ]
  },
  {
   "cell_type": "code",
   "execution_count": 8,
   "id": "65e0d975",
   "metadata": {},
   "outputs": [
    {
     "name": "stdout",
     "output_type": "stream",
     "text": [
      "[1 2 3 4]\n"
     ]
    }
   ],
   "source": [
    "#            0 1 2 3 4\n",
    "t =np.array([1,2,3,4,5])\n",
    "print(t[:4])"
   ]
  },
  {
   "cell_type": "markdown",
   "id": "00e4e574",
   "metadata": {},
   "source": [
    "# negative slicing"
   ]
  },
  {
   "cell_type": "markdown",
   "id": "91b88373",
   "metadata": {},
   "source": [
    "slice from index 3 from end of to index 1 from end\n"
   ]
  },
  {
   "cell_type": "code",
   "execution_count": 10,
   "id": "7f22c0c2",
   "metadata": {},
   "outputs": [
    {
     "name": "stdout",
     "output_type": "stream",
     "text": [
      "[5 6]\n"
     ]
    }
   ],
   "source": [
    " #           7 6 5 4 3 2 1\n",
    "u =np.array([1,2,3,4,5,6,7])\n",
    "print(u[-3:-1])"
   ]
  },
  {
   "cell_type": "markdown",
   "id": "5318511e",
   "metadata": {},
   "source": [
    "return every eliments from index 1 to index 5"
   ]
  },
  {
   "cell_type": "code",
   "execution_count": 13,
   "id": "28bca5cb",
   "metadata": {},
   "outputs": [
    {
     "name": "stdout",
     "output_type": "stream",
     "text": [
      "[7 5]\n"
     ]
    }
   ],
   "source": [
    "u =np.array([1,2,3,4,5,6,7])\n",
    "print(u[-1:-5:-2])"
   ]
  },
  {
   "cell_type": "markdown",
   "id": "55309871",
   "metadata": {},
   "source": [
    "return every outher elements from the entire array"
   ]
  },
  {
   "cell_type": "code",
   "execution_count": 14,
   "id": "d259a41d",
   "metadata": {},
   "outputs": [
    {
     "name": "stdout",
     "output_type": "stream",
     "text": [
      "[1 4 7]\n"
     ]
    }
   ],
   "source": [
    "u =np.array([1,2,3,4,5,6,7])\n",
    "print(u[::3])"
   ]
  },
  {
   "cell_type": "markdown",
   "id": "53991e4a",
   "metadata": {},
   "source": [
    "# slicing 2d array"
   ]
  },
  {
   "cell_type": "markdown",
   "id": "6176be97",
   "metadata": {},
   "source": [
    "from second element from index 1 to index 4 (not included)"
   ]
  },
  {
   "cell_type": "code",
   "execution_count": 16,
   "id": "21e685a5",
   "metadata": {},
   "outputs": [
    {
     "name": "stdout",
     "output_type": "stream",
     "text": [
      "[7 8 9]\n",
      "[1 2 3 4]\n"
     ]
    }
   ],
   "source": [
    "v =np.array([[1,2,3,4,5],[6,7,8,9,10]])\n",
    "print(v[1,1:4])\n",
    "print(v[0,0:4])"
   ]
  },
  {
   "cell_type": "markdown",
   "id": "dc5d8ff7",
   "metadata": {},
   "source": [
    "# from both array return index 2"
   ]
  },
  {
   "cell_type": "code",
   "execution_count": 17,
   "id": "cb43dc55",
   "metadata": {},
   "outputs": [
    {
     "name": "stdout",
     "output_type": "stream",
     "text": [
      "[[2 3 4]\n",
      " [7 8 9]]\n"
     ]
    }
   ],
   "source": [
    "v =np.array([[1,2,3,4,5],[6,7,8,9,10]])\n",
    "print(v[0:2,1:4])"
   ]
  },
  {
   "cell_type": "code",
   "execution_count": null,
   "id": "6a8035a1",
   "metadata": {},
   "outputs": [],
   "source": []
  }
 ],
 "metadata": {
  "kernelspec": {
   "display_name": "Python 3 (ipykernel)",
   "language": "python",
   "name": "python3"
  },
  "language_info": {
   "codemirror_mode": {
    "name": "ipython",
    "version": 3
   },
   "file_extension": ".py",
   "mimetype": "text/x-python",
   "name": "python",
   "nbconvert_exporter": "python",
   "pygments_lexer": "ipython3",
   "version": "3.9.12"
  }
 },
 "nbformat": 4,
 "nbformat_minor": 5
}
